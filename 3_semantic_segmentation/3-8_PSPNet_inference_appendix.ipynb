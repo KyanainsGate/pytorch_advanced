{
 "cells": [
  {
   "cell_type": "markdown",
   "metadata": {},
   "source": [
    "# 3.8 推論の実施\n",
    "\n",
    "- 本ファイルでは、学習させたPSPNetでセマンティックセグメンテーションを行います。\n"
   ]
  },
  {
   "cell_type": "markdown",
   "metadata": {},
   "source": [
    "# 学習目標\n",
    "\n",
    "\n",
    "1.\tセマンティックセグメンテーションの推論を実装できるようになる\n"
   ]
  },
  {
   "cell_type": "markdown",
   "metadata": {},
   "source": [
    "# 事前準備\n",
    "\n",
    "- 学習させた重みパラメータ「pspnet50_30.pth」をフォルダ「weights」に用意する。"
   ]
  },
  {
   "cell_type": "code",
   "execution_count": null,
   "metadata": {},
   "outputs": [],
   "source": [
    "from PIL import Image\n",
    "import numpy as np\n",
    "import matplotlib.pyplot as plt\n",
    "%matplotlib inline\n",
    "\n",
    "import torch"
   ]
  },
  {
   "cell_type": "markdown",
   "metadata": {},
   "source": [
    "# データセットを用意"
   ]
  },
  {
   "cell_type": "code",
   "execution_count": null,
   "metadata": {},
   "outputs": [],
   "source": [
    "from utils.dataloader import make_datapath_list, DataTransform, VOCDataset\n",
    "\n",
    "\n",
    "# ファイルパスリスト作成\n",
    "rootpath = \"./data/VOCdevkit/VOC2012/\"\n",
    "train_img_list, train_anno_list, val_img_list, val_anno_list = make_datapath_list(\n",
    "    rootpath=rootpath)\n",
    "\n",
    "# Dataset作成\n",
    "# (RGB)の色の平均値と標準偏差\n",
    "color_mean = (0.485, 0.456, 0.406)\n",
    "color_std = (0.229, 0.224, 0.225)\n",
    "\n",
    "val_dataset = VOCDataset(val_img_list, val_anno_list, phase=\"val\", transform=DataTransform(\n",
    "    input_size=475, color_mean=color_mean, color_std=color_std))\n"
   ]
  },
  {
   "cell_type": "markdown",
   "metadata": {},
   "source": [
    "# ネットワークを用意"
   ]
  },
  {
   "cell_type": "code",
   "execution_count": null,
   "metadata": {},
   "outputs": [],
   "source": [
    "from utils.pspnet import PSPNet\n",
    "\n",
    "net = PSPNet(n_classes=21)\n",
    "\n",
    "# 学習済みパラメータをロード\n",
    "state_dict = torch.load(\"./weights/pspnet50_30.pth\",\n",
    "                        map_location={'cuda:0': 'cpu'})\n",
    "net.load_state_dict(state_dict)\n",
    "\n",
    "print('ネットワーク設定完了：学習済みの重みをロードしました')\n"
   ]
  },
  {
   "cell_type": "markdown",
   "metadata": {},
   "source": [
    "# 推論実行"
   ]
  },
  {
   "cell_type": "code",
   "execution_count": null,
   "metadata": {},
   "outputs": [],
   "source": [
    "img_index = 4\n",
    "\n",
    "# 1. 元画像の表示\n",
    "image_file_path = val_img_list[img_index]\n",
    "img_original = Image.open(image_file_path)   # [高さ][幅][色RGB]\n",
    "img_width, img_height = img_original.size\n",
    "plt.imshow(img_original)\n",
    "plt.show()\n",
    "\n",
    "# 2. 正解アノテーション画像の表示\n",
    "anno_file_path = val_anno_list[img_index]\n",
    "anno_class_img = Image.open(anno_file_path)   # [高さ][幅][色RGB]\n",
    "p_palette = anno_class_img.getpalette()\n",
    "plt.imshow(anno_class_img)\n",
    "plt.show()\n",
    "\n",
    "# 3. PSPNetで推論する\n",
    "net.eval()\n",
    "img, anno_class_img = val_dataset.__getitem__(img_index)\n",
    "x = img.unsqueeze(0)  # ミニバッチ化：torch.Size([1, 3, 475, 475])\n",
    "outputs = net(x)\n",
    "y = outputs[0]  # AuxLoss側は無視\n",
    "\n",
    "# 4. PSPNetの出力から最大クラスを求め、カラーパレット形式にし、画像サイズを元に戻す\n",
    "y = y[0].detach().numpy()  # y：torch.Size([1, 21, 475, 475])\n",
    "y = np.argmax(y, axis=0)\n",
    "anno_class_img = Image.fromarray(np.uint8(y), mode=\"P\")\n",
    "anno_class_img = anno_class_img.resize((img_width, img_height), Image.NEAREST)\n",
    "anno_class_img.putpalette(p_palette)\n",
    "plt.imshow(anno_class_img)\n",
    "plt.show()\n",
    "\n",
    "# 5. 画像を透過させて重ねる\n",
    "trans_img = Image.new('RGBA', anno_class_img.size, (0, 0, 0, 0))\n",
    "anno_class_img = anno_class_img.convert('RGBA')  # カラーパレット形式をRGBAに変換\n",
    "\n",
    "for x in range(img_width):\n",
    "    for y in range(img_height):\n",
    "        # 推論結果画像のピクセルデータを取得\n",
    "        pixel = anno_class_img.getpixel((x, y))\n",
    "        r, g, b, a = pixel\n",
    "\n",
    "        # (0, 0, 0)の背景ならそのままにして透過させる\n",
    "        if pixel[0] == 0 and pixel[1] == 0 and pixel[2] == 0:\n",
    "            continue\n",
    "        else:\n",
    "            # それ以外の色は用意した画像にピクセルを書き込む\n",
    "            trans_img.putpixel((x, y), (r, g, b, 200))\n",
    "            # 200は透過度の大きさを指定している\n",
    "\n",
    "result = Image.alpha_composite(img_original.convert('RGBA'), trans_img)\n",
    "plt.imshow(result)\n",
    "plt.show()\n"
   ]
  },
  {
   "cell_type": "markdown",
   "metadata": {},
   "source": [
    "以上"
   ]
  },
  {
   "cell_type": "code",
   "execution_count": null,
   "metadata": {},
   "outputs": [],
   "source": []
  }
 ],
 "metadata": {
  "kernelspec": {
   "display_name": "Python 3",
   "language": "python",
   "name": "python3"
  },
  "language_info": {
   "codemirror_mode": {
    "name": "ipython",
    "version": 3
   },
   "file_extension": ".py",
   "mimetype": "text/x-python",
   "name": "python",
   "nbconvert_exporter": "python",
   "pygments_lexer": "ipython3",
   "version": "3.6.5"
  }
 },
 "nbformat": 4,
 "nbformat_minor": 2
}
