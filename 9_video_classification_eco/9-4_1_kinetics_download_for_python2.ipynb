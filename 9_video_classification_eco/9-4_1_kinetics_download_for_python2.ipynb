{
 "cells": [
  {
   "cell_type": "markdown",
   "metadata": {},
   "source": [
    "# 9.4.1 Kinetics動画のダウンロード\n",
    "\n",
    "本ファイルでは、Kinetics動画をダウンロードします。\n"
   ]
  },
  {
   "cell_type": "markdown",
   "metadata": {},
   "source": [
    "## 解説"
   ]
  },
  {
   "cell_type": "markdown",
   "metadata": {},
   "source": [
    "# Ubuntu 18.04 & 20.04 仕様\n",
    "- 2021/07/24更新\n",
    "- `environment.yml`がエラー落ちするため、Anacondaを使って仮想環境を構築する。\n",
    "- 以下、すべてTerminalで実行\n",
    "\n",
    "## 手順\n",
    "0. `9_video_classification_eco`へ移動\n",
    "```sh\n",
    "cd 9_video_classification_eco\n",
    "```\n",
    "1. python2.7対応の環境`kinetics`を構築\n",
    "```sh\n",
    "conda create -n kinetics python=2.7\n",
    "```\n",
    "2. 仮想環境`kinetics`を起動後、必要なパッケージをインストール\n",
    "```sh\n",
    "conda activate kinetics\n",
    "pip install -r video_download/requirements_for_py27.txt \n",
    "```\n",
    "なお、`requirements_for_py27`によってインストールされたpipパッケージは以下\n",
    "```sh\n",
    "joblib>=0.14.1\n",
    "pandas>=0.24.2\n",
    "youtube-dl==2021.6.6\n",
    "ipython>=4.0.0\n",
    "notebook>=5.7.10\n",
    "```\n",
    "3. フォルダ`data/kinetics_videos`を`9_video_classification_eco`以下に作成\n",
    "```sh\n",
    "mkdir -p data/kinetics_videos\n",
    "```\n",
    "4. `download.py`を仮想環境用意に構築した`python`で実行\n",
    "```sh\n",
    "python ./video_download/download.py ./video_download/kinetics-400_val_8videos.csv ./data/kinetics_videos/\n",
    "```\n",
    "結構待たされるが気長に待つ"
   ]
  },
  {
   "cell_type": "markdown",
   "metadata": {},
   "source": [
    "以上"
   ]
  }
 ],
 "metadata": {
  "kernelspec": {
   "display_name": "torch190",
   "language": "python",
   "name": "torch190"
  },
  "language_info": {
   "codemirror_mode": {
    "name": "ipython",
    "version": 3
   },
   "file_extension": ".py",
   "mimetype": "text/x-python",
   "name": "python",
   "nbconvert_exporter": "python",
   "pygments_lexer": "ipython3",
   "version": "3.9.7"
  }
 },
 "nbformat": 4,
 "nbformat_minor": 2
}
