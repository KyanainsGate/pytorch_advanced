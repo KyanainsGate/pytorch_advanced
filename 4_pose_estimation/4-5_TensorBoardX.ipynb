{
 "cells": [
  {
   "cell_type": "markdown",
   "metadata": {},
   "source": [
    "# 4.5 TensorBordXによるネットワークモデルの可視化\n",
    "\n",
    "- 本ファイルでは、OpenPoseのネットワークモデルをTensorBordで可視化します\n"
   ]
  },
  {
   "cell_type": "markdown",
   "metadata": {},
   "source": [
    "# 4.5 学習目標\n",
    "\n",
    "1.\ttensorbordXが動作する環境を構築できるようになる\n",
    "2.\tOpenPoseNetクラスを対象に、tensorbordXでネットワーク（graph）を可視化するファイルを出力できるようになる\n",
    "3.\ttensorbordXのgraphファイルをブラウザで描画し、テンソルサイズの確認などができるようになる\n",
    "\n"
   ]
  },
  {
   "cell_type": "markdown",
   "metadata": {},
   "source": [
    "# 事前準備\n",
    "\n",
    "tensorbordXを利用するためにtensorbordXとTensorFlowをインストールする必要があります。以下のようにインストールしてください。\n",
    "\n",
    "pip install tensorflow \n",
    "\n",
    "pip install tensorboardx\n",
    "\n",
    "※　pip install tensorflow tensorboardx　でやるとうまくインストールできないようです。。\n",
    "\n"
   ]
  },
  {
   "cell_type": "code",
   "execution_count": null,
   "metadata": {},
   "outputs": [],
   "source": [
    "# 必要なパッケージのimport\n",
    "import torch"
   ]
  },
  {
   "cell_type": "code",
   "execution_count": null,
   "metadata": {},
   "outputs": [],
   "source": [
    "from utils.openpose_net import OpenPoseNet\n",
    "# モデルの用意\n",
    "net = OpenPoseNet()\n",
    "net.train()\n"
   ]
  },
  {
   "cell_type": "code",
   "execution_count": null,
   "metadata": {},
   "outputs": [],
   "source": [
    "# 1. tensorboardXの保存クラスを呼び出します\n",
    "from tensorboardX import SummaryWriter\n",
    "\n",
    "# 2. フォルダ「tbX」に保存させるwriterを用意します\n",
    "# フォルダ「tbX」はなければ自動で作成されます\n",
    "writer = SummaryWriter(\"./tbX/\")\n",
    "\n",
    "\n",
    "# 3. ネットワークに流し込むダミーデータを作成します\n",
    "batch_size = 2\n",
    "dummy_img = torch.rand(batch_size, 3, 368, 368)\n",
    "\n",
    "# 4. OpenPoseのインスタンスnetに対して、ダミーデータである\n",
    "# dummy_imgを流したときのgraphをwriterに保存させます\n",
    "writer.add_graph(net, (dummy_img, ))\n",
    "writer.close()\n",
    "\n",
    "\n",
    "# 5. コマンドプロンプトを開き、フォルダ「tbX」がある\n",
    "# フォルダ「4_pose_estimation」まで移動して、\n",
    "# 以下のコマンドを実行します\n",
    "\n",
    "# tensorboard --logdir=\"./tbX/\"\n",
    "\n",
    "# その後、http://localhost:6006\n",
    "# にアクセスします\n"
   ]
  },
  {
   "cell_type": "markdown",
   "metadata": {},
   "source": [
    "以上"
   ]
  }
 ],
 "metadata": {
  "kernelspec": {
   "display_name": "Python 3",
   "language": "python",
   "name": "python3"
  },
  "language_info": {
   "codemirror_mode": {
    "name": "ipython",
    "version": 3
   },
   "file_extension": ".py",
   "mimetype": "text/x-python",
   "name": "python",
   "nbconvert_exporter": "python",
   "pygments_lexer": "ipython3",
   "version": "3.6.5"
  }
 },
 "nbformat": 4,
 "nbformat_minor": 2
}
